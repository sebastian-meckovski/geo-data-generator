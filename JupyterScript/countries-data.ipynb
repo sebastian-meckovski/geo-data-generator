{
 "cells": [
  {
   "cell_type": "code",
   "execution_count": 205,
   "id": "a54fdc5f-dbe6-4ce8-9bb0-04e1590ac82b",
   "metadata": {},
   "outputs": [],
   "source": [
    "import pandas as pd\n",
    "import numpy as np\n",
    "\n",
    "# Define the file paths\n",
    "global_cities_path = 'allCountries.txt'\n",
    "alternate_names_path = 'alternateNamesV2.txt'\n",
    "admin1_codes_path = 'admin1CodesASCII.txt'\n",
    "\n",
    "# Define the column headers for the global cities file\n",
    "global_cities_headers = [\n",
    "    'geoname_id', 'name', 'ascii_name', 'alternate_names', 'latitude', 'longitude',\n",
    "    'feature_class', 'feature_code', 'country_code', 'cc2', 'admin1_code',\n",
    "    'admin2_code', 'admin3_code', 'admin4_code', 'population', 'elevation',\n",
    "    'dem', 'timezone', 'modification_date'\n",
    "]\n",
    "\n",
    "# Define the data types for the columns in the global cities file\n",
    "global_cities_dtype = {\n",
    "    'geoname_id': 'Int64', 'name': str, 'asciiname': str, 'alternatenames': str,\n",
    "    'latitude': float, 'longitude': float, 'feature_class': str, 'feature_code': str,\n",
    "    'country_code': str, 'cc2': str, 'admin1_code': str, 'admin2_code': str,\n",
    "    'admin3_code': str, 'admin4_code': str, 'population': float, 'elevation': float,\n",
    "    'dem': float, 'timezone': str, 'modification_date': str\n",
    "}\n",
    "\n",
    "# Define the column headers for the alternate names file\n",
    "alternate_names_headers = [\n",
    "    'alternate_name_id', 'geoname_id', 'iso_language', 'alternate_name',\n",
    "    'is_preferred_name', 'is_short_name', 'is_colloquial', 'is_historic', \n",
    "    'from', 'to'\n",
    "]\n",
    "\n",
    "# Define the data types for the columns in the alternate names file\n",
    "alternate_names_dtype = {\n",
    "    'alternate_name_id': 'Int64', 'geoname_id': 'Int64', 'iso_language': str, 'alternate_name': str,\n",
    "    'is_preferred_name': 'boolean', 'is_short_name': 'boolean', 'is_colloquial': 'boolean', 'is_historic': 'boolean',\n",
    "    'from': str, 'to': str\n",
    "}\n",
    "\n",
    "# Define the column headers for the admin1 codes file\n",
    "admin1_codes_headers = [\n",
    "    'code', 'name', 'name_ascii', 'geoname_id_admin1'\n",
    "]\n",
    "\n",
    "# Define the data types for the columns in the admin1 codes file\n",
    "admin1_codes_dtype = {\n",
    "    'code': str, 'name': str, 'name_ascii': str, 'geoname_id_admin1': 'Int64'\n",
    "}\n",
    "\n",
    "# Read the files 'Int64'o pandas DataFrames\n",
    "alternate_names_df = pd.read_csv(alternate_names_path, sep='\\t', header=None, names=alternate_names_headers, dtype=alternate_names_dtype, low_memory=False, keep_default_na=False, na_values='')\n",
    "cities_df = pd.read_csv(global_cities_path, sep='\\t', header=None, names=global_cities_headers, dtype=global_cities_dtype, low_memory=False, keep_default_na=False, na_values='').drop('alternate_names', axis=1)\n",
    "admin1_codes_df = pd.read_csv(admin1_codes_path, sep='\\t', header=None, names=admin1_codes_headers, dtype=admin1_codes_dtype, low_memory=False, keep_default_na=False, na_values='')"
   ]
  },
  {
   "cell_type": "code",
   "execution_count": 157,
   "id": "75b6ae0b-9a7c-4810-b8e6-360a2aea72f9",
   "metadata": {},
   "outputs": [],
   "source": [
    "# Fill <NA> values with False for the specified columns\n",
    "alternate_names_df[['is_preferred_name', 'is_short_name', 'is_colloquial', 'is_historic']] = \\\n",
    "    alternate_names_df[['is_preferred_name', 'is_short_name', 'is_colloquial', 'is_historic']].fillna(False)"
   ]
  },
  {
   "cell_type": "code",
   "execution_count": 158,
   "id": "c714898b-b6d3-4403-ab67-f0bcd7ae383e",
   "metadata": {},
   "outputs": [],
   "source": [
    "# Generate countries dataset\n",
    "countries_df = cities_df[cities_df['feature_code'].isin(['PCLI', 'PCLS', 'PCLIX', 'TERR', 'PCLD', 'PCL', 'PCLF'])].rename(columns={'name': 'name_country'})"
   ]
  },
  {
   "cell_type": "code",
   "execution_count": 159,
   "id": "ea49b0a3-29cc-4c8a-b371-dba1ed154c47",
   "metadata": {},
   "outputs": [],
   "source": [
    "feature_codes = [\n",
    "    'PPLA', 'PPLC', 'PPL', 'PPLW',\n",
    "    'PPLG', 'PPLL', 'PPLS', 'PPLF', 'PPLR'\n",
    "]\n",
    "\n",
    "filtered_cities_df = cities_df[cities_df['feature_code'].isin(feature_codes) & (cities_df['population'] >= 15000)]"
   ]
  },
  {
   "cell_type": "code",
   "execution_count": 160,
   "id": "e376bd1c-48de-4d3a-8e7b-573d7ea3e954",
   "metadata": {},
   "outputs": [],
   "source": [
    "# Merge the DataFrames on the country code\n",
    "cities_with_country = pd.merge(filtered_cities_df, countries_df[['geoname_id', 'name_country', 'country_code']], on='country_code', how='left', suffixes=('_city', '_country'))"
   ]
  },
  {
   "cell_type": "code",
   "execution_count": 161,
   "id": "70f57f97-c1dc-4af8-9922-3fe63e5fc6de",
   "metadata": {},
   "outputs": [],
   "source": [
    "# Include first-order administrative division in cities_with_country_table\n",
    "cities_with_country['admin1_geocode'] = cities_with_country['country_code'] + '.' + cities_with_country['admin1_code']\n",
    "\n",
    "cities_with_country_admin1_geocodes = pd.merge(cities_with_country, admin1_codes_df[['code', 'name', 'geoname_id_admin1']], right_on='code',\n",
    "                                               left_on='admin1_geocode', how='left',  suffixes=('_city', '_admin1')).drop('code', axis=1)"
   ]
  },
  {
   "cell_type": "code",
   "execution_count": 148,
   "id": "40c48bb5-e53b-4f00-831b-db755dd5865f",
   "metadata": {},
   "outputs": [],
   "source": [
    "# Remove the admin_area column if the city name is unique within a country. Keep it if multiple cities have the same name in the country.\n",
    "cities_with_country_admin1_geocodes[\"city_count\"] = cities_with_country_admin1_geocodes.groupby([\"geoname_id_country\", \"name_city\"])[\"geoname_id_city\"].transform(\"count\")\n",
    "cities_with_country_admin1_geocodes[\"geoname_id_admin1\"] = cities_with_country_admin1_geocodes.apply(lambda row: row[\"geoname_id_admin1\"] if row[\"city_count\"] > 1 else np.nan, axis=1)"
   ]
  },
  {
   "cell_type": "code",
   "execution_count": 198,
   "id": "ebb07236-c70e-4d0b-b985-9b61ea2be296",
   "metadata": {},
   "outputs": [],
   "source": [
    "# Filter alternate_names_df for French names\n",
    "filtered_alternate_names = alternate_names_df[alternate_names_df['iso_language'] == 'fr'].copy()\n",
    "\n",
    "def determine_priority(row):\n",
    "    if row['is_preferred_name'] == True and row['is_short_name'] == False and row['is_colloquial'] == False and row['is_historic'] == False:\n",
    "        return 1\n",
    "    elif row['is_preferred_name'] == False and row['is_short_name'] == False and row['is_colloquial'] == False and row['is_historic'] == False:\n",
    "        return 2\n",
    "    elif row['is_preferred_name'] == False and row['is_short_name'] == True and row['is_colloquial'] == False and row['is_historic'] == False:\n",
    "        return 3\n",
    "    else:\n",
    "        return 4\n",
    "\n",
    "# Add a priority column to the filtered DataFrame\n",
    "filtered_alternate_names['priority'] = filtered_alternate_names.apply(determine_priority, axis=1)\n",
    "\n",
    "# Sort the filtered DataFrame by priority and geoname_id\n",
    "filtered_alternate_names.sort_values(by=['priority', 'geoname_id'], inplace=True)\n",
    "\n",
    "# Select the first row for each geoname_id in the filtered DataFrame\n",
    "filtered_alternate_names = filtered_alternate_names.groupby('geoname_id').first().reset_index()"
   ]
  },
  {
   "cell_type": "code",
   "execution_count": 199,
   "id": "fbb28de7-114c-457e-9ea6-a94d33b3c4f4",
   "metadata": {},
   "outputs": [],
   "source": [
    "# Add alternate city names\n",
    "cities_with_country_admin1_alternates = pd.merge(cities_with_country_admin1_geocodes, filtered_alternate_names[['geoname_id', 'alternate_name']], \n",
    "                                               how='left', left_on='geoname_id_city', right_on='geoname_id').drop('geoname_id', axis=1)\n",
    "\n",
    "# Fill missing city names with original values\n",
    "cities_with_country_admin1_alternates['alternate_name'] = cities_with_country_admin1_alternates['alternate_name'].fillna(\n",
    "    cities_with_country_admin1_alternates['name_city']\n",
    ")\n",
    "\n",
    "# Add alternate admin1 names \n",
    "cities_with_country_admin1_alternates = pd.merge(cities_with_country_admin1_alternates, filtered_alternate_names[['geoname_id', 'alternate_name']], \n",
    "                                                 how='left', left_on='geoname_id_admin1', right_on='geoname_id', suffixes=('_city','_admin1')).drop('geoname_id', axis=1)\n",
    "\n",
    "# Add alternate country names \n",
    "cities_with_country_admin1_alternates = pd.merge(cities_with_country_admin1_alternates, filtered_alternate_names[['geoname_id', 'alternate_name']], \n",
    "                                                 how='left', left_on='geoname_id_country', right_on='geoname_id').drop('geoname_id', axis=1).rename(columns={'alternate_name': 'alternate_name_country'})\n",
    "\n",
    "# Fill missing country names with original values\n",
    "cities_with_country_admin1_alternates['alternate_name_country'] = cities_with_country_admin1_alternates['alternate_name_country'].fillna(\n",
    "    cities_with_country_admin1_alternates['name_country']\n",
    ")"
   ]
  },
  {
   "cell_type": "code",
   "execution_count": 200,
   "id": "bfb45419-20f1-486a-ab63-5df48fa071fe",
   "metadata": {},
   "outputs": [],
   "source": [
    "# TODO: Find an approach to filter out admin1 and country names with same names. For example should avoid name like HongKong, HongKong"
   ]
  },
  {
   "cell_type": "code",
   "execution_count": 201,
   "id": "62722e76-49c8-47cb-b4d2-06013a2c9538",
   "metadata": {},
   "outputs": [],
   "source": [
    "def check_names_city_country(row):\n",
    "    name = str(row['alternate_name_city']).lower().strip()\n",
    "    country = str(row['alternate_name_country']).lower().strip()\n",
    "    return country in name\n",
    "\n",
    "# Get the indices where the condition is met (using the original DataFrame)\n",
    "indices_to_remove = cities_with_country_admin1_alternates[\n",
    "    cities_with_country_admin1_alternates.apply(check_names_city_country, axis=1)\n",
    "].index\n",
    "\n",
    "# Remove the 'alternate_name_admin1' values at those indices in the original DataFrame\n",
    "cities_with_country_admin1_alternates.loc[indices_to_remove, 'alternate_name_country'] = np.nan"
   ]
  },
  {
   "cell_type": "code",
   "execution_count": 202,
   "id": "274c6559-71e2-4000-ab60-a355a9ce6bb4",
   "metadata": {},
   "outputs": [],
   "source": [
    "def check_names_city_admin1(row):\n",
    "    name = str(row['alternate_name_city']).lower().strip()\n",
    "    admin1 = str(row['alternate_name_admin1']).lower().strip()\n",
    "    return name in admin1 or admin1 in name\n",
    "\n",
    "# Get the indices where the condition is met (using the copy)\n",
    "indices_to_remove = cities_with_country_admin1_alternates[\n",
    "    cities_with_country_admin1_alternates.apply(check_names_city_admin1, axis=1)\n",
    "].index  # Get the indices\n",
    "\n",
    "# Remove the 'alternate_name_admin1' values at those indices in the ORIGINAL\n",
    "cities_with_country_admin1_alternates.loc[indices_to_remove, 'alternate_name_admin1'] = np.nan"
   ]
  },
  {
   "cell_type": "code",
   "execution_count": 204,
   "id": "604d4d77-7769-46b4-a1b1-2888ee00a747",
   "metadata": {},
   "outputs": [],
   "source": [
    "# html_table = cities_with_country_admin1_alternates[cities_with_country_admin1_alternates['alternate_name_admin1'].notna()].head(1000).to_html()\n",
    "# display(HTML(html_table))"
   ]
  }
 ],
 "metadata": {
  "kernelspec": {
   "display_name": "Python 3 (ipykernel)",
   "language": "python",
   "name": "python3"
  },
  "language_info": {
   "codemirror_mode": {
    "name": "ipython",
    "version": 3
   },
   "file_extension": ".py",
   "mimetype": "text/x-python",
   "name": "python",
   "nbconvert_exporter": "python",
   "pygments_lexer": "ipython3",
   "version": "3.12.3"
  }
 },
 "nbformat": 4,
 "nbformat_minor": 5
}
