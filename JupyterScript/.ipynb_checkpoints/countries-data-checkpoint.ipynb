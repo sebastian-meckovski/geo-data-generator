{
 "cells": [
  {
   "cell_type": "code",
   "execution_count": 2,
   "id": "a54fdc5f-dbe6-4ce8-9bb0-04e1590ac82b",
   "metadata": {},
   "outputs": [],
   "source": [
    "import pandas as pd\n",
    "\n",
    "# Define the file paths\n",
    "GlobalCitiesPath = 'allCountries.txt'\n",
    "AlternateNamesPath = 'alternateNamesV2.txt'\n",
    "\n",
    "# Define the column headers for the global cities file\n",
    "GlobalCitiesHeaders = [\n",
    "    'geonameid', 'name', 'asciiname', 'alternatenames', 'latitude', 'longitude',\n",
    "    'feature class', 'feature code', 'country code', 'cc2', 'admin1 code',\n",
    "    'admin2 code', 'admin3 code', 'admin4 code', 'population', 'elevation',\n",
    "    'dem', 'timezone', 'modification date'\n",
    "]\n",
    "\n",
    "# Define the data types for the columns in the global cities file\n",
    "GlobalCitiesDtype = {\n",
    "    'geonameid': int, 'name': str, 'asciiname': str, 'alternatenames': str,\n",
    "    'latitude': float, 'longitude': float, 'feature class': str, 'feature code': str,\n",
    "    'country code': str, 'cc2': str, 'admin1 code': str, 'admin2 code': str,\n",
    "    'admin3 code': str, 'admin4 code': str, 'population': float, 'elevation': float,\n",
    "    'dem': float, 'timezone': str, 'modification date': str\n",
    "}\n",
    "\n",
    "# Define the column headers for the alternate names file\n",
    "AlternateNamesHeaders = [\n",
    "    'alternateNameId', 'geonameid', 'isolanguage', 'alternate name',\n",
    "    'isPreferredName', 'isShortName', 'isColloquial', 'isHistoric', \n",
    "    'from', 'to'\n",
    "]\n",
    "\n",
    "# Define the data types for the columns in the alternate names file\n",
    "AlternateNamesDtype = {\n",
    "    'alternateNameId': int, 'geonameid': int, 'isolanguage': str, 'alternate name': str,\n",
    "    'isPreferredName': str, 'isShortName': str, 'isColloquial': str, 'isHistoric': str,\n",
    "    'from': str, 'to': str\n",
    "}\n",
    "\n",
    "# Read the alternate files into a pandas DataFrame\n",
    "AlternateNamesDf = pd.read_csv(AlternateNamesPath, sep='\\t', header=None, names=AlternateNamesHeaders, dtype=AlternateNamesDtype, low_memory=False, na_values='')\n",
    "CitiesDf = pd.read_csv(GlobalCitiesPath, sep='\\t', header=None, names=GlobalCitiesHeaders, dtype=GlobalCitiesDtype, low_memory=False)\n"
   ]
  },
  {
   "cell_type": "code",
   "execution_count": 10,
   "id": "397ec271-75cb-46e1-90f1-c191383273d0",
   "metadata": {},
   "outputs": [
    {
     "name": "stdout",
     "output_type": "stream",
     "text": [
      "   geonameid                          name                     asciiname  \\\n",
      "0    2994701                     Roc Meler                     Roc Meler   \n",
      "1    3017832          Pic de les Abelletes          Pic de les Abelletes   \n",
      "2    3017833       Estany de les Abelletes       Estany de les Abelletes   \n",
      "3    3023203  Port Vieux de la Coume d’Ose  Port Vieux de la Coume d'Ose   \n",
      "4    3029315          Port de la Cabanette          Port de la Cabanette   \n",
      "\n",
      "                                      alternatenames  latitude  longitude  \\\n",
      "0                        Roc Mele,Roc Meler,Roc Mélé  42.58765    1.74180   \n",
      "1  Pic de la Font-Negre,Pic de la Font-Nègre,Pic ...  42.52535    1.73343   \n",
      "2  Estany de les Abelletes,Etang de Font-Negre,Ét...  42.52915    1.73362   \n",
      "3  Port Vieux de Coume d'Ose,Port Vieux de Coume ...  42.62568    1.61823   \n",
      "4     Port de la Cabanette,Porteille de la Cabanette  42.60000    1.73333   \n",
      "\n",
      "  feature class feature code country code    cc2 admin1 code admin2 code  \\\n",
      "0             T           PK           AD  AD,FR          02         NaN   \n",
      "1             T           PK           AD     FR          A9          66   \n",
      "2             H           LK           AD     FR          A9         NaN   \n",
      "3             T         PASS           AD    NaN          00         NaN   \n",
      "4             T         PASS           AD  AD,FR          B3          09   \n",
      "\n",
      "  admin3 code admin4 code  population  elevation     dem        timezone  \\\n",
      "0         NaN         NaN         0.0     2811.0  2348.0  Europe/Andorra   \n",
      "1         663       66146         0.0        NaN  2411.0  Europe/Andorra   \n",
      "2         NaN         NaN         0.0        NaN  2260.0  Europe/Andorra   \n",
      "3         NaN         NaN         0.0        NaN  2687.0  Europe/Andorra   \n",
      "4         091       09139         0.0        NaN  2379.0  Europe/Andorra   \n",
      "\n",
      "  modification date  \n",
      "0        2023-10-03  \n",
      "1        2014-11-05  \n",
      "2        2014-11-05  \n",
      "3        2014-11-05  \n",
      "4        2014-11-05  \n"
     ]
    }
   ],
   "source": [
    "print(CitiesDf.head())"
   ]
  },
  {
   "cell_type": "code",
   "execution_count": null,
   "id": "ac90014b-3e03-4273-9b9c-40b987e1f720",
   "metadata": {},
   "outputs": [],
   "source": []
  }
 ],
 "metadata": {
  "kernelspec": {
   "display_name": "Python 3 (ipykernel)",
   "language": "python",
   "name": "python3"
  },
  "language_info": {
   "codemirror_mode": {
    "name": "ipython",
    "version": 3
   },
   "file_extension": ".py",
   "mimetype": "text/x-python",
   "name": "python",
   "nbconvert_exporter": "python",
   "pygments_lexer": "ipython3",
   "version": "3.12.3"
  }
 },
 "nbformat": 4,
 "nbformat_minor": 5
}
